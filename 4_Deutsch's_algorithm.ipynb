{
  "nbformat": 4,
  "nbformat_minor": 0,
  "metadata": {
    "colab": {
      "provenance": []
    },
    "kernelspec": {
      "name": "python3",
      "display_name": "Python 3"
    },
    "language_info": {
      "name": "python"
    }
  },
  "cells": [
    {
      "cell_type": "markdown",
      "source": [
        "#4.-DEUTSCH'S ALGORITHM"
      ],
      "metadata": {
        "id": "Lv5-81rqnFt4"
      }
    },
    {
      "cell_type": "code",
      "execution_count": null,
      "metadata": {
        "id": "8nmMqzVbfWCa"
      },
      "outputs": [],
      "source": [
        "!pip install qiskit #1.3.1 (13/01/2025)\n",
        "!pip install qiskit-ibm-runtime #0.34.0 (13/01/2025)\n",
        "!pip install qiskit_aer #0.15.1 (13/01/2025)\n",
        "!pip install pylatexenc #2.10 (13/01/2025)"
      ]
    },
    {
      "cell_type": "markdown",
      "source": [
        "**Exercise 1**: Create an oracle for f(0)=0, f(1)=1. Run Deutsch's algorithm and check the results."
      ],
      "metadata": {
        "id": "LXrMBw2LJqcR"
      }
    },
    {
      "cell_type": "code",
      "source": [
        "from qiskit import QuantumCircuit\n",
        "\n",
        "qc = QuantumCircuit(2,1)\n",
        "qc.h(0)\n",
        "qc.x(1)\n",
        "qc.h(1)\n",
        "\n",
        "qc.barrier()\n",
        "\n",
        "#### ORACLE\n",
        "\n",
        "qc.barrier()\n",
        "\n",
        "qc.h(0)\n",
        "qc.measure(range(1),range(1))\n",
        "\n",
        "qc.draw(\"mpl\")"
      ],
      "metadata": {
        "id": "I2iJ9OwsgRKt"
      },
      "execution_count": null,
      "outputs": []
    },
    {
      "cell_type": "code",
      "source": [
        "from qiskit_ibm_runtime import SamplerV2 as Sampler\n",
        "from qiskit_aer import AerSimulator\n",
        "\n",
        "\n",
        "sampler = Sampler(AerSimulator(seed_simulator = 1234))\n",
        "job = sampler.run([qc], shots = 10)\n",
        "results = job.result()\n",
        "d = results[0].data.c\n",
        "print(\"Stats:\", d.get_counts())"
      ],
      "metadata": {
        "id": "OhI5AQJds2Ce"
      },
      "execution_count": null,
      "outputs": []
    },
    {
      "cell_type": "markdown",
      "source": [
        "**Exercise 2**: Create an oracle for f(0)=1, f(1)=0. Run Deutsch's algorithm and check the results."
      ],
      "metadata": {
        "id": "UQo8jo5hKPrw"
      }
    },
    {
      "cell_type": "code",
      "source": [
        "from qiskit import QuantumCircuit\n",
        "\n",
        "qc = QuantumCircuit(2,1)\n",
        "qc.h(0)\n",
        "qc.x(1)\n",
        "qc.h(1)\n",
        "\n",
        "qc.barrier()\n",
        "\n",
        "#### ORACLE\n",
        "\n",
        "qc.barrier()\n",
        "\n",
        "qc.h(0)\n",
        "qc.measure(range(1),range(1))\n",
        "\n",
        "qc.draw(\"mpl\")\n"
      ],
      "metadata": {
        "id": "NsFX0QLW_lhK"
      },
      "execution_count": null,
      "outputs": []
    },
    {
      "cell_type": "code",
      "source": [
        "\n",
        "sampler = Sampler(AerSimulator(seed_simulator = 1234))\n",
        "job = sampler.run([qc], shots = 10)\n",
        "results = job.result()\n",
        "d = results[0].data.c\n",
        "print(\"Stats:\", d.get_counts())"
      ],
      "metadata": {
        "id": "PW1e6_NLXRdO"
      },
      "execution_count": null,
      "outputs": []
    },
    {
      "cell_type": "markdown",
      "source": [
        "**Exercise 3**: Create an oracle for f(0)=1, f(1)=1. Run Deutsch's algorithm and check the results."
      ],
      "metadata": {
        "id": "5TPQpQ_9KX4B"
      }
    },
    {
      "cell_type": "code",
      "source": [
        "from qiskit import QuantumCircuit\n",
        "\n",
        "qc = QuantumCircuit(2,1)\n",
        "qc.h(0)\n",
        "qc.x(1)\n",
        "qc.h(1)\n",
        "\n",
        "qc.barrier()\n",
        "\n",
        "#### ORACLE\n",
        "\n",
        "qc.barrier()\n",
        "\n",
        "qc.h(0)\n",
        "qc.measure(range(1),range(1))\n",
        "\n",
        "qc.draw(\"mpl\")\n"
      ],
      "metadata": {
        "id": "2Z7redPvKWgI"
      },
      "execution_count": null,
      "outputs": []
    },
    {
      "cell_type": "code",
      "source": [
        "sampler = Sampler(AerSimulator(seed_simulator = 1234))\n",
        "job = sampler.run([qc], shots = 10)\n",
        "results = job.result()\n",
        "d = results[0].data.c\n",
        "print(\"Stats:\", d.get_counts())"
      ],
      "metadata": {
        "id": "rVHLIWLNYJ7R"
      },
      "execution_count": null,
      "outputs": []
    },
    {
      "cell_type": "markdown",
      "source": [
        "**Exercise 4**: Create an oracle for f(0)=0, f(1)=0. Run Deutsch's algorithm and check the results."
      ],
      "metadata": {
        "id": "vbahsJtrKljB"
      }
    },
    {
      "cell_type": "code",
      "source": [
        "from qiskit import QuantumCircuit\n",
        "\n",
        "qc = QuantumCircuit(2,1)\n",
        "qc.h(0)\n",
        "qc.x(1)\n",
        "qc.h(1)\n",
        "\n",
        "qc.barrier()\n",
        "\n",
        "#### ORACLE\n",
        "\n",
        "qc.barrier()\n",
        "\n",
        "qc.h(0)\n",
        "qc.measure(range(1),range(1))\n",
        "\n",
        "qc.draw(\"mpl\")"
      ],
      "metadata": {
        "id": "adXnKpOmKlB1"
      },
      "execution_count": null,
      "outputs": []
    },
    {
      "cell_type": "code",
      "source": [
        "sampler = Sampler(AerSimulator(seed_simulator = 1234))\n",
        "job = sampler.run([qc], shots = 10)\n",
        "results = job.result()\n",
        "d = results[0].data.c\n",
        "print(\"Stats:\", d.get_counts())"
      ],
      "metadata": {
        "id": "mrXADG0fYSLq"
      },
      "execution_count": null,
      "outputs": []
    },
    {
      "cell_type": "markdown",
      "source": [
        "**BONUS:** Run some of the circuits on an actual quantum computer. What are the results?"
      ],
      "metadata": {
        "id": "oUiSvFdaKtTd"
      }
    },
    {
      "cell_type": "code",
      "source": [],
      "metadata": {
        "id": "yfGZBJ37K04f"
      },
      "execution_count": null,
      "outputs": []
    }
  ]
}