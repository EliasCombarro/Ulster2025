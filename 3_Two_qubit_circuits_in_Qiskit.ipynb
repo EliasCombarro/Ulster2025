{
  "nbformat": 4,
  "nbformat_minor": 0,
  "metadata": {
    "colab": {
      "provenance": []
    },
    "kernelspec": {
      "name": "python3",
      "display_name": "Python 3"
    },
    "language_info": {
      "name": "python"
    }
  },
  "cells": [
    {
      "cell_type": "markdown",
      "source": [
        "#3.- TWO-QUBIT CIRCUITS IN QISKIT"
      ],
      "metadata": {
        "id": "Lv5-81rqnFt4"
      }
    },
    {
      "cell_type": "code",
      "execution_count": null,
      "metadata": {
        "id": "8nmMqzVbfWCa"
      },
      "outputs": [],
      "source": [
        "!pip install qiskit #1.3.1 (13/01/2025)\n",
        "!pip install qiskit-ibm-runtime #0.34.0 (13/01/2025)\n",
        "!pip install qiskit_aer #0.15.1 (13/01/2025)\n",
        "!pip install pylatexenc #2.10 (13/01/2025)"
      ]
    },
    {
      "cell_type": "code",
      "source": [
        "from qiskit import QuantumCircuit\n",
        "\n",
        "qc = QuantumCircuit(2,2)\n",
        "qc.h(0)\n",
        "qc.cx(0,1)\n",
        "qc.measure(range(2),range(2))\n",
        "qc.draw(\"mpl\")"
      ],
      "metadata": {
        "id": "I2iJ9OwsgRKt"
      },
      "execution_count": null,
      "outputs": []
    },
    {
      "cell_type": "code",
      "source": [
        "from qiskit_ibm_runtime import SamplerV2 as Sampler\n",
        "from qiskit_aer import AerSimulator\n",
        "\n",
        "\n",
        "sampler = Sampler(AerSimulator(seed_simulator = 1234))\n",
        "job = sampler.run([qc], shots = 10)\n",
        "results = job.result()\n",
        "d = results[0].data.c\n",
        "print(\"Number of shots:\", d.num_shots)\n",
        "print(\"Stats:\", d.get_counts())\n",
        "print(\"Measurement results:\", d.array)\n",
        "print(\"Measurement results as strings:\", d.get_bitstrings())\n"
      ],
      "metadata": {
        "id": "1-pP4x0ggcEQ"
      },
      "execution_count": null,
      "outputs": []
    },
    {
      "cell_type": "code",
      "source": [
        "qc.remove_final_measurements()\n",
        "from qiskit.quantum_info import Statevector\n",
        "statevector = Statevector(qc)\n",
        "print(\"Amplitudes:\", statevector)"
      ],
      "metadata": {
        "id": "Mb26W3xfct7l"
      },
      "execution_count": null,
      "outputs": []
    },
    {
      "cell_type": "markdown",
      "source": [
        "##EJERCICIOS"
      ],
      "metadata": {
        "id": "BXYM1WC7x6V5"
      }
    },
    {
      "cell_type": "markdown",
      "source": [
        "1.- Build a circuit to prepare the state $$\\frac{1}{\\sqrt{2}}(|01>+|10>)$$\n",
        "\n",
        "Run it 10 times. What results do you get?\n",
        "\n",
        "Check that the circuit is correct by obtaining the statevector amplitudes.\n",
        "\n",
        "\n",
        "\n"
      ],
      "metadata": {
        "id": "ZN6zgU5-yabY"
      }
    },
    {
      "cell_type": "code",
      "source": [],
      "metadata": {
        "id": "bhdCJrk9_GO8"
      },
      "execution_count": null,
      "outputs": []
    },
    {
      "cell_type": "markdown",
      "source": [
        "2.- Build a circuit to prepare the state $$\\frac{1}{\\sqrt{2}}(|00>-|11>)$$\n",
        "\n",
        "Run it 10 times. What results do you get?\n",
        "\n",
        "Check that the circuit is correct by obtaining the statevector amplitudes.\n",
        "\n",
        "\n",
        "\n"
      ],
      "metadata": {
        "id": "I8D539_R_HH-"
      }
    },
    {
      "cell_type": "code",
      "source": [],
      "metadata": {
        "id": "d4MEp_o-_H8m"
      },
      "execution_count": null,
      "outputs": []
    },
    {
      "cell_type": "markdown",
      "source": [
        "3.- Build a circuit to prepare the state $$\\frac{1}{\\sqrt{2}}(|01>-|10>)$$\n",
        "\n",
        "Run it 10 times. What results do you get?\n",
        "\n",
        "Check that the circuit is correct by obtaining the statevector amplitudes.\n",
        "\n",
        "\n",
        "\n"
      ],
      "metadata": {
        "id": "BFcztrcN_E-7"
      }
    },
    {
      "cell_type": "code",
      "source": [],
      "metadata": {
        "id": "5mT6Bw6Cx-Aq"
      },
      "execution_count": null,
      "outputs": []
    },
    {
      "cell_type": "markdown",
      "source": [
        "4.- (Optional) Run some of the above circuits on an actual quantum computer. What are the results? Why?"
      ],
      "metadata": {
        "id": "MNonPCYV_ZWB"
      }
    },
    {
      "cell_type": "code",
      "source": [],
      "metadata": {
        "id": "NsFX0QLW_lhK"
      },
      "execution_count": null,
      "outputs": []
    }
  ]
}