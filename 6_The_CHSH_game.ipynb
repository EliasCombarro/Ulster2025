{
  "nbformat": 4,
  "nbformat_minor": 0,
  "metadata": {
    "colab": {
      "provenance": []
    },
    "kernelspec": {
      "name": "python3",
      "display_name": "Python 3"
    },
    "language_info": {
      "name": "python"
    }
  },
  "cells": [
    {
      "cell_type": "markdown",
      "source": [
        "#6.-THE CHSH GAME"
      ],
      "metadata": {
        "id": "Lv5-81rqnFt4"
      }
    },
    {
      "cell_type": "code",
      "execution_count": null,
      "metadata": {
        "id": "8nmMqzVbfWCa"
      },
      "outputs": [],
      "source": [
        "!pip install qiskit #1.3.1 (13/01/2025)\n",
        "!pip install qiskit-ibm-runtime #0.34.0 (13/01/2025)\n",
        "!pip install qiskit_aer #0.15.1 (13/01/2025)\n",
        "!pip install pylatexenc #2.10 (13/01/2025)"
      ]
    },
    {
      "cell_type": "code",
      "source": [
        "from qiskit import QuantumCircuit\n",
        "from qiskit_ibm_runtime import SamplerV2 as Sampler\n",
        "from qiskit_aer import AerSimulator\n",
        "\n",
        "import numpy as np\n",
        "\n",
        "sampler = Sampler(AerSimulator())\n",
        "\n",
        "\n",
        "reps = 100000\n",
        "\n",
        "wins = 0\n",
        "\n",
        "x = np.random.randint(2, size = reps)\n",
        "y = np.random.randint(2, size = reps)\n",
        "\n",
        "\n",
        "for i in range(reps):\n",
        "\n",
        "  qc = QuantumCircuit(2,2)\n",
        "\n",
        "  # Bell state preparation\n",
        "\n",
        "  qc.h(0)\n",
        "  qc.cx(0,1)\n",
        "\n",
        "  qc.barrier() # Alice and Bob's ops\n",
        "\n",
        "  if(x[i]==1):\n",
        "    qc.ry(np.pi/2,0)\n",
        "  if(y[i]==0):\n",
        "    qc.ry(np.pi/4,1)\n",
        "  else:\n",
        "    qc.ry(-np.pi/4,1)\n",
        "\n",
        "  qc.measure(range(2),range(2))\n",
        "  job = sampler.run([qc], shots = 1)\n",
        "  results = job.result()\n",
        "  d = results[0].data.c\n",
        "  s = d.get_bitstrings()\n",
        "  a = int(s[0][0])\n",
        "  b = int(s[0][1])\n",
        "\n",
        "  if(x[i]*y[i]==0):\n",
        "    if(a==b):\n",
        "      wins+=1\n",
        "  else:\n",
        "    if(a!=b):\n",
        "      wins+=1\n",
        "\n",
        "print(\"Win percentage:\", 100*wins/reps)"
      ],
      "metadata": {
        "id": "I2iJ9OwsgRKt"
      },
      "execution_count": null,
      "outputs": []
    }
  ]
}