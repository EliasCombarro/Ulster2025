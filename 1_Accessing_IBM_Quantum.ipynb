{
  "nbformat": 4,
  "nbformat_minor": 0,
  "metadata": {
    "colab": {
      "provenance": []
    },
    "kernelspec": {
      "name": "python3",
      "display_name": "Python 3"
    },
    "language_info": {
      "name": "python"
    }
  },
  "cells": [
    {
      "cell_type": "code",
      "execution_count": null,
      "metadata": {
        "id": "12DzyWvuGl5O"
      },
      "outputs": [],
      "source": [
        "!pip install qiskit #1.1.1 (13/01/2025)\n",
        "!pip install qiskit-ibm-runtime #0.33.0 (13/01/2025)"
      ]
    },
    {
      "cell_type": "code",
      "source": [
        "mytoken = \"xxxxx\"\n",
        "from qiskit_ibm_runtime import QiskitRuntimeService\n",
        "service = QiskitRuntimeService(channel=\"ibm_quantum\", token=mytoken)\n",
        "\n",
        "backends = service.backends()\n",
        "for b in backends:\n",
        "  print(b.name,b.num_qubits)"
      ],
      "metadata": {
        "id": "j8UKH0I6KxA5"
      },
      "execution_count": null,
      "outputs": []
    }
  ]
}