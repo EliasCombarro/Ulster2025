{
  "nbformat": 4,
  "nbformat_minor": 0,
  "metadata": {
    "colab": {
      "provenance": []
    },
    "kernelspec": {
      "name": "python3",
      "display_name": "Python 3"
    },
    "language_info": {
      "name": "python"
    }
  },
  "cells": [
    {
      "cell_type": "markdown",
      "source": [
        "# 7.-QSVMs WITH PENNYLANE"
      ],
      "metadata": {
        "id": "VusYR-i2dIyy"
      }
    },
    {
      "cell_type": "code",
      "execution_count": null,
      "metadata": {
        "id": "_K7vbKWFdHSm",
        "collapsed": true
      },
      "outputs": [],
      "source": [
        "!pip install pennylane #0.39.0 (13/01/2025)\n",
        "\n",
        "import pennylane as qml"
      ]
    },
    {
      "cell_type": "code",
      "source": [
        "import matplotlib\n",
        "from matplotlib import pyplot as plt\n",
        "from sklearn.model_selection import train_test_split\n",
        "from sklearn.datasets import make_blobs\n",
        "\n",
        "seed = 1234\n",
        "\n",
        "X, y = make_blobs(n_samples=200, centers = [[0,2],[2,0]], random_state = seed)\n",
        "X_train, X_test, y_train, y_test = train_test_split(X, y, test_size=0.2, stratify = y, random_state=seed)\n",
        "plt.scatter(X[:, 0], X[:, 1], c = y, cmap=matplotlib.colors.ListedColormap([\"red\",\"green\"]));"
      ],
      "metadata": {
        "id": "jO6HhGn-d7W3"
      },
      "execution_count": null,
      "outputs": []
    },
    {
      "cell_type": "code",
      "source": [
        "from sklearn.preprocessing import MinMaxScaler\n",
        "import numpy as np\n",
        "\n",
        "scaler = MinMaxScaler(feature_range=(0,np.pi))\n",
        "X_train = scaler.fit_transform(X_train)\n",
        "X_test = scaler.transform(X_test)"
      ],
      "metadata": {
        "id": "3NRrIiwpeevV"
      },
      "execution_count": null,
      "outputs": []
    },
    {
      "cell_type": "code",
      "source": [
        "n_qubits = 2\n",
        "dev = qml.device(\"default.qubit\", wires=n_qubits)\n",
        "\n",
        "@qml.qnode(dev)\n",
        "def kernel(x1, x2):\n",
        "    qml.templates.AngleEmbedding(x1, wires=range(n_qubits))\n",
        "    qml.adjoint(qml.templates.AngleEmbedding(x2, wires=range(n_qubits)))\n",
        "    return qml.probs()\n",
        "\n",
        "def kernel_matrix(A, B):\n",
        "    return np.array([[kernel(a, b)[0] for b in B] for a in A])"
      ],
      "metadata": {
        "id": "BVb_g1TufPeD"
      },
      "execution_count": null,
      "outputs": []
    },
    {
      "cell_type": "code",
      "source": [
        "from sklearn.svm import SVC\n",
        "from sklearn.metrics import accuracy_score\n",
        "\n",
        "svm = SVC(kernel=kernel_matrix).fit(X_train, y_train)\n",
        "predictions = svm.predict(X_test)\n",
        "accuracy_score(predictions, y_test)"
      ],
      "metadata": {
        "id": "pIu2clQsfF_3"
      },
      "execution_count": null,
      "outputs": []
    }
  ]
}