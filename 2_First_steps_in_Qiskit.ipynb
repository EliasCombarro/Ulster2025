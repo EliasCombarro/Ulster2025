{
  "nbformat": 4,
  "nbformat_minor": 0,
  "metadata": {
    "colab": {
      "provenance": []
    },
    "kernelspec": {
      "name": "python3",
      "display_name": "Python 3"
    },
    "language_info": {
      "name": "python"
    }
  },
  "cells": [
    {
      "cell_type": "markdown",
      "source": [
        "#2.- FIRST STEPS IN QISKIT"
      ],
      "metadata": {
        "id": "Lv5-81rqnFt4"
      }
    },
    {
      "cell_type": "code",
      "execution_count": null,
      "metadata": {
        "id": "8nmMqzVbfWCa"
      },
      "outputs": [],
      "source": [
        "!pip install qiskit #1.3.1 (13/01/2025)\n",
        "!pip install qiskit-ibm-runtime #0.34.0 (13/01/2025)\n",
        "!pip install qiskit_aer #0.15.1 (13/01/2025)\n",
        "!pip install pylatexenc #2.10 (13/01/2025)"
      ]
    },
    {
      "cell_type": "code",
      "source": [
        "from qiskit import QuantumCircuit\n",
        "\n",
        "qc = QuantumCircuit(1,1)\n",
        "qc.h(0)\n",
        "qc.measure(range(1),range(1))\n",
        "\n",
        "qc.draw(\"mpl\")"
      ],
      "metadata": {
        "id": "I2iJ9OwsgRKt"
      },
      "execution_count": null,
      "outputs": []
    },
    {
      "cell_type": "code",
      "source": [
        "from qiskit_ibm_runtime import SamplerV2 as Sampler\n",
        "from qiskit_aer import AerSimulator\n",
        "\n",
        "\n",
        "sampler = Sampler(AerSimulator(seed_simulator = 4321))\n",
        "job = sampler.run([qc], shots = 10)\n",
        "results = job.result()\n",
        "d = results[0].data.c\n",
        "print(\"Number of shots:\", d.num_shots)\n",
        "print(\"Stats:\", d.get_counts())\n",
        "print(\"Measurement results:\", d.array)\n",
        "print(\"Measurement results as strings:\", d.get_bitstrings())\n"
      ],
      "metadata": {
        "id": "1-pP4x0ggcEQ"
      },
      "execution_count": null,
      "outputs": []
    },
    {
      "cell_type": "code",
      "source": [
        "qc.remove_final_measurements()\n",
        "from qiskit.quantum_info import Statevector\n",
        "statevector = Statevector(qc)\n",
        "print(\"Amplitudes:\", statevector)"
      ],
      "metadata": {
        "id": "Mb26W3xfct7l"
      },
      "execution_count": null,
      "outputs": []
    },
    {
      "cell_type": "markdown",
      "source": [
        "Ahora, vamos a calcular la matriz del circuito. De nuevo, esto solo se puede hacer en un simulador. Usaremos la función *Operator*."
      ],
      "metadata": {
        "id": "5rYpqLfLwSBY"
      }
    },
    {
      "cell_type": "code",
      "source": [
        "from qiskit.quantum_info import Operator\n",
        "result = Operator(qc).data\n",
        "print(\"Circuit matrix:\", result)"
      ],
      "metadata": {
        "id": "nKSB63KMDUE1"
      },
      "execution_count": null,
      "outputs": []
    },
    {
      "cell_type": "markdown",
      "source": [
        "## EXERCISES"
      ],
      "metadata": {
        "id": "nHH_BZD12Ps_"
      }
    },
    {
      "cell_type": "markdown",
      "source": [
        "1.- Build and execute 10 times a quantum circuit that applies an X gate and a measurement. What are the results? Why?\n",
        "\n",
        "\n"
      ],
      "metadata": {
        "id": "ZN6zgU5-yabY"
      }
    },
    {
      "cell_type": "code",
      "source": [],
      "metadata": {
        "id": "5mT6Bw6Cx-Aq"
      },
      "execution_count": null,
      "outputs": []
    },
    {
      "cell_type": "markdown",
      "source": [
        "2.- Build and execute 10 times a quantum circuit that applies a Z gate and a measurement. What are the results? Why?\n",
        "\n",
        "\n",
        "\n"
      ],
      "metadata": {
        "id": "P0ZQWsoCyn3y"
      }
    },
    {
      "cell_type": "code",
      "source": [],
      "metadata": {
        "id": "6R9o0auayvMV"
      },
      "execution_count": null,
      "outputs": []
    },
    {
      "cell_type": "markdown",
      "source": [
        "3.- Build and execute 10 times a quantum circuit that applies an X gate, a Z gate and a measurement. What are the results? Why?\n",
        "\n",
        "\n",
        "Obtain the amplitudes. Do they explain the results you obtained?"
      ],
      "metadata": {
        "id": "hi3ZfydUywJo"
      }
    },
    {
      "cell_type": "code",
      "source": [],
      "metadata": {
        "id": "B-gF7O7BzdOd"
      },
      "execution_count": null,
      "outputs": []
    },
    {
      "cell_type": "markdown",
      "source": [
        "4.- Using *Operator*, check the following gate equivalences:\n",
        "\n",
        "\n",
        "*   $Z^2 = I$\n",
        "*   $HZH = X$\n",
        "*   $S^4 = I$\n",
        "*   $T^8 = I$\n",
        "\n"
      ],
      "metadata": {
        "id": "gIyAZOLfze0s"
      }
    },
    {
      "cell_type": "markdown",
      "source": [
        "##BONUS: RUNNING ON AN ACTUAL QUANTUM COMPUTER"
      ],
      "metadata": {
        "id": "uQwGykHB2nd2"
      }
    },
    {
      "cell_type": "code",
      "source": [
        "mytoken = \"xxxxx\"\n",
        "\n",
        "from qiskit_ibm_runtime import QiskitRuntimeService\n",
        "from qiskit.transpiler.preset_passmanagers import generate_preset_pass_manager\n",
        "\n",
        "service = QiskitRuntimeService(channel=\"ibm_quantum\", token=mytoken)"
      ],
      "metadata": {
        "id": "A353vn4w20PP"
      },
      "execution_count": null,
      "outputs": []
    },
    {
      "cell_type": "code",
      "source": [
        "backend = service.least_busy(simulator=False, operational=True)\n",
        "print(\"The selected device is:\", backend)\n",
        "\n",
        "qc2 = QuantumCircuit(1,1)\n",
        "qc2.h(0)\n",
        "qc2.measure(0,0)\n",
        "\n",
        "pm = generate_preset_pass_manager(backend=backend, optimization_level=1)\n",
        "isa_circuit = pm.run(qc2)\n",
        "\n",
        "isa_circuit.draw('mpl', idle_wires=False)"
      ],
      "metadata": {
        "id": "Wv_H1Uh53hel"
      },
      "execution_count": null,
      "outputs": []
    },
    {
      "cell_type": "code",
      "source": [
        "sampler = Sampler(backend)\n",
        "job = sampler.run([isa_circuit], shots = 10)\n",
        "results = job.result()\n",
        "d = results[0].data.c\n",
        "print(\"Number of shots:\", d.num_shots)\n",
        "print(\"Stats:\", d.get_counts())\n",
        "print(\"Measurement results:\", d.array)\n",
        "print(\"Measurement results as strings:\", d.get_bitstrings())"
      ],
      "metadata": {
        "id": "KdLeg6ok37ex"
      },
      "execution_count": null,
      "outputs": []
    }
  ]
}