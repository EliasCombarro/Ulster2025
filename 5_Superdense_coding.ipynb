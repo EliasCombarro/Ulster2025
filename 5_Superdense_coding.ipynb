{
  "nbformat": 4,
  "nbformat_minor": 0,
  "metadata": {
    "colab": {
      "provenance": []
    },
    "kernelspec": {
      "name": "python3",
      "display_name": "Python 3"
    },
    "language_info": {
      "name": "python"
    }
  },
  "cells": [
    {
      "cell_type": "markdown",
      "source": [
        "#5.-SUPERDENSE CODING"
      ],
      "metadata": {
        "id": "Lv5-81rqnFt4"
      }
    },
    {
      "cell_type": "code",
      "execution_count": null,
      "metadata": {
        "id": "8nmMqzVbfWCa"
      },
      "outputs": [],
      "source": [
        "!pip install qiskit #1.3.1 (13/01/2025)\n",
        "!pip install qiskit-ibm-runtime #0.34.0 (13/01/2025)\n",
        "!pip install qiskit_aer #0.15.1 (13/01/2025)\n",
        "!pip install pylatexenc #2.10 (13/01/2025)"
      ]
    },
    {
      "cell_type": "code",
      "source": [
        "from qiskit import QuantumCircuit\n",
        "\n",
        "b1 = 1\n",
        "b2 = 1\n",
        "\n",
        "qc = QuantumCircuit(2,2)\n",
        "\n",
        "# Bell state preparation\n",
        "\n",
        "qc.h(0)\n",
        "qc.cx(0,1)\n",
        "\n",
        "qc.barrier() # Alice's ops (in reverse because of Qiskit coding)\n",
        "\n",
        "if(b1):\n",
        "  qc.x(0)\n",
        "if(b2):\n",
        "  qc.z(0)\n",
        "\n",
        "qc.barrier() # Qubit sent to Bob\n",
        "\n",
        "qc.cx(0,1)\n",
        "qc.h(0)\n",
        "qc.measure(range(2),range(2))\n",
        "\n",
        "qc.draw(\"mpl\")"
      ],
      "metadata": {
        "id": "I2iJ9OwsgRKt"
      },
      "execution_count": null,
      "outputs": []
    },
    {
      "cell_type": "code",
      "source": [
        "from qiskit_ibm_runtime import SamplerV2 as Sampler\n",
        "from qiskit_aer import AerSimulator\n",
        "\n",
        "\n",
        "sampler = Sampler(AerSimulator(seed_simulator = 1234))\n",
        "job = sampler.run([qc], shots = 10)\n",
        "results = job.result()\n",
        "d = results[0].data.c\n",
        "print(\"Stats:\", d.get_counts())"
      ],
      "metadata": {
        "id": "OhI5AQJds2Ce"
      },
      "execution_count": null,
      "outputs": []
    }
  ]
}